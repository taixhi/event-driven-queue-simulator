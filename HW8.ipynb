{
 "cells": [
  {
   "cell_type": "code",
   "execution_count": 1,
   "metadata": {},
   "outputs": [
    {
     "name": "stderr",
     "output_type": "stream",
     "text": [
      "/usr/local/lib/python3.7/site-packages/tqdm/autonotebook/__init__.py:18: TqdmExperimentalWarning: Using `tqdm.autonotebook.tqdm` in notebook mode. Use `tqdm.tqdm` instead to force console mode (e.g. in jupyter console)\n",
      "  \" (e.g. in jupyter console)\", TqdmExperimentalWarning)\n"
     ]
    }
   ],
   "source": [
    "from random import Random\n",
    "import math\n",
    "import numpy as np\n",
    "import pandas as pd\n",
    "import logging, sys\n",
    "from tqdm.autonotebook import tqdm\n",
    "from matplotlib import interactive\n",
    "import matplotlib.pyplot as plt\n",
    "import seaborn as sns\n",
    "logging.basicConfig(stream=sys.stderr, level=logging.DEBUG)\n"
   ]
  },
  {
   "cell_type": "code",
   "execution_count": 2,
   "metadata": {},
   "outputs": [],
   "source": [
    "# PART 1: GENERATE RANDOM VARIABLES\n",
    "def uniRand():\n",
    "    return Random().uniform(0,1)\n",
    "def geoRand(p):\n",
    "    r = uniRand()\n",
    "    logging.debug('uniform:{}'.format(r))\n",
    "    i = 1\n",
    "    y = 0\n",
    "    while(True):\n",
    "        y += math.pow(1-p, i-1)*p\n",
    "        logging.debug('p(x={})={}'.format(i, y))\n",
    "        if(r < y):\n",
    "            return i\n",
    "        logging.debug('='*20)\n",
    "        i += 1"
   ]
  },
  {
   "cell_type": "code",
   "execution_count": 4,
   "metadata": {},
   "outputs": [
    {
     "name": "stderr",
     "output_type": "stream",
     "text": [
      "DEBUG:matplotlib:CACHEDIR=/Users/taichikato/.matplotlib\n",
      "DEBUG:matplotlib.font_manager:Using fontManager instance from /Users/taichikato/.matplotlib/fontlist-v330.json\n",
      "DEBUG:matplotlib.pyplot:Loaded backend module://ipykernel.pylab.backend_inline version unknown.\n",
      "DEBUG:matplotlib.pyplot:Loaded backend module://ipykernel.pylab.backend_inline version unknown.\n"
     ]
    }
   ],
   "source": []
  },
  {
   "cell_type": "code",
   "execution_count": 5,
   "metadata": {},
   "outputs": [
    {
     "data": {
      "text/plain": [
       "<seaborn.axisgrid.FacetGrid at 0x109858e90>"
      ]
     },
     "execution_count": 5,
     "metadata": {},
     "output_type": "execute_result"
    },
    {
     "data": {
      "image/png": "[encoded data removed]",
      "text/plain": [
       "<Figure size 360x360 with 1 Axes>"
      ]
     },
     "metadata": {},
     "output_type": "display_data"
    }
   ],
   "source": [
    "def plotGeoRand():\n",
    "    logging.disable(logging.CRITICAL)\n",
    "    arr = []\n",
    "    p =0.5\n",
    "    for i in range(1000):\n",
    "        arr.append(geoRand(p))\n",
    "    # Apply the default theme\n",
    "    sns.set_theme()\n",
    "    sns.displot(arr, binwidth=1)\n",
    "plotGeoRand()"
   ]
  },
  {
   "cell_type": "code",
   "execution_count": 7,
   "metadata": {},
   "outputs": [],
   "source": [
    "## Custom Queue testing code\n",
    "def testQueue():\n",
    "    queue = Queue()\n",
    "    queue.enqueue(Job(1, 1))\n",
    "    queue.enqueue(Job(2, 1))\n",
    "    queue.enqueue(Job(3, 1))\n",
    "    print(queue.length())\n",
    "    print(queue.dequeue())\n",
    "    print(queue.dequeue())\n",
    "    print(queue.dequeue())\n",
    "    print(queue.dequeue())"
   ]
  },
  {
   "cell_type": "code",
   "execution_count": 8,
   "metadata": {},
   "outputs": [],
   "source": [
    "# QUEUE IMPLEMENTATION WITH LINKED LISTS\n",
    "class Node():\n",
    "    def __init__(self, job):\n",
    "        self.val = job\n",
    "        self.next = None\n",
    "class Queue():\n",
    "    def __init__(self):\n",
    "        self.head = None\n",
    "        self.tail = None\n",
    "    def length(self):\n",
    "        size = 0\n",
    "        node = self.head\n",
    "        while(node != None):\n",
    "            node = node.next\n",
    "            size += 1\n",
    "        return size\n",
    "    def enqueue(self, j):\n",
    "        job = Node(j)\n",
    "        if self.tail != None:\n",
    "            self.tail.next = job\n",
    "            self.tail = job\n",
    "        else:\n",
    "            self.head = job\n",
    "            self.tail = job\n",
    "    def dequeue(self):\n",
    "        if self.head != None:\n",
    "            r = self.head\n",
    "            self.head = self.head.next\n",
    "            return r.val\n",
    "        else:\n",
    "            return None\n",
    "            print('trying to dequeue an empty array')\n",
    "            \n",
    "# PART 2: SERVER OBJECTS IMPLEMENTATION\n",
    "class Job(object):\n",
    "    def process_time(self):\n",
    "        if self.departure < self.arrival:\n",
    "            # The departure time is not computed yet\n",
    "            return None\n",
    "        return self.departure - self.arrival\n",
    "    def __str__(self):\n",
    "        return('Object: Job(size={}, arrival={}, departure={})'.format(self.size, self.arrival, self.departure))\n",
    "    def __init__(self, size, arrival):\n",
    "        self.size = size\n",
    "        self.arrival = arrival\n",
    "        self.departure = None\n",
    "        \n",
    "class Server(object):\n",
    "    def queue_length(self):\n",
    "        return len(self.queue) + (1 if self.current != None else 0)\n",
    "    def log_arr(self):\n",
    "        if(self.n > self.k):\n",
    "            self.arr_log.append(self.queue_length()) \n",
    "    def log_dep(self, t):\n",
    "        if(self.n > self.k):\n",
    "            self.dep_log.append(t)\n",
    "    def next_departure(self):\n",
    "        return (self.current.departure if self.current != None else None)\n",
    "    def arrival(self, job):\n",
    "        self.log_arr()\n",
    "        if self.current != None:\n",
    "            logging.debug('enqueing job')\n",
    "            self.queue.append(job)\n",
    "        else:\n",
    "            self.current = job\n",
    "            self.current.departure = job.arrival + job.size\n",
    "        self.next_arrival += geoRand(self.p)\n",
    "        self.n += 1\n",
    "    def departure(self):\n",
    "        prev_dep = self.next_departure()\n",
    "        process_time = self.current.process_time() \n",
    "        if len(self.queue) > 0:\n",
    "            self.current = self.queue.pop()\n",
    "            self.current.departure = prev_dep + self.current.size\n",
    "        else:\n",
    "            logging.debug(\"|- Last item\")\n",
    "            self.current = None\n",
    "        self.log_dep(process_time)\n",
    "        return prev_dep\n",
    "    def run(self, MAX_ARRIVAL, k):\n",
    "        self.n = 0 # Number of arrivals\n",
    "        self.t = 0 # Server time\n",
    "        self.dep_log = []\n",
    "        self.arr_log = []\n",
    "        self.k = k\n",
    "        with tqdm(total=MAX_ARRIVAL) as pbar:\n",
    "            while(MAX_ARRIVAL > self.n):\n",
    "                logging.debug(\"t={} n={} next_arr={} next_dep={} size={}\".format(self.t, \n",
    "                                                                                 self.n, \n",
    "                                                                                 self.next_arrival, \n",
    "                                                                                 self.next_departure(), \n",
    "                                                                                 self.queue_length()))\n",
    "                if(self.next_departure() == None \n",
    "                   or self.next_arrival < self.next_departure() \n",
    "                   or self.next_departure() == 0):\n",
    "                    logging.debug(\"|– processing arrival\")\n",
    "                    self.t = self.next_arrival\n",
    "                    job = Job(geoRand(self.q), self.t)\n",
    "                    s.arrival(job)\n",
    "                    pbar.update(1)\n",
    "                else:\n",
    "                    logging.debug(\"|– processing departure\")\n",
    "                    self.t = self.departure()\n",
    "        return (self.arr_log, self.dep_log)\n",
    "    def __init__(self, p, q):\n",
    "        self.p = p\n",
    "        self.q = q\n",
    "        self.queue = []\n",
    "        self.current = None\n",
    "        self.next_arrival = geoRand(self.p)"
   ]
  },
  {
   "cell_type": "code",
   "execution_count": 9,
   "metadata": {},
   "outputs": [
    {
     "data": {
      "application/vnd.jupyter.widget-view+json": {
       "model_id": "f349777fff6442a79c41a831cfb8da6e",
       "version_major": 2,
       "version_minor": 0
      },
      "text/plain": [
       "HBox(children=(IntProgress(value=0, max=49), HTML(value='')))"
      ]
     },
     "metadata": {},
     "output_type": "display_data"
    },
    {
     "data": {
      "application/vnd.jupyter.widget-view+json": {
       "model_id": "3068abba8a484dfc973478dfd2b44e7d",
       "version_major": 2,
       "version_minor": 0
      },
      "text/plain": [
       "HBox(children=(IntProgress(value=0, max=10000), HTML(value='')))"
      ]
     },
     "metadata": {},
     "output_type": "display_data"
    },
    {
     "data": {
      "application/vnd.jupyter.widget-view+json": {
       "model_id": "49c26261850d46f79866d921331f8d37",
       "version_major": 2,
       "version_minor": 0
      },
      "text/plain": [
       "HBox(children=(IntProgress(value=0, max=10000), HTML(value='')))"
      ]
     },
     "metadata": {},
     "output_type": "display_data"
    },
    {
     "data": {
      "application/vnd.jupyter.widget-view+json": {
       "model_id": "f9ff7c4385604b88be0b9f2d89d23421",
       "version_major": 2,
       "version_minor": 0
      },
      "text/plain": [
       "HBox(children=(IntProgress(value=0, max=10000), HTML(value='')))"
      ]
     },
     "metadata": {},
     "output_type": "display_data"
    },
    {
     "data": {
      "application/vnd.jupyter.widget-view+json": {
       "model_id": "41113236a883467d954477ffd36b44f5",
       "version_major": 2,
       "version_minor": 0
      },
      "text/plain": [
       "HBox(children=(IntProgress(value=0, max=10000), HTML(value='')))"
      ]
     },
     "metadata": {},
     "output_type": "display_data"
    },
    {
     "data": {
      "application/vnd.jupyter.widget-view+json": {
       "model_id": "4e38a89035dc4b3f9cc44d01532afa6e",
       "version_major": 2,
       "version_minor": 0
      },
      "text/plain": [
       "HBox(children=(IntProgress(value=0, max=10000), HTML(value='')))"
      ]
     },
     "metadata": {},
     "output_type": "display_data"
    },
    {
     "data": {
      "application/vnd.jupyter.widget-view+json": {
       "model_id": "02487c5a9ea34fbca1c00a47d671347d",
       "version_major": 2,
       "version_minor": 0
      },
      "text/plain": [
       "HBox(children=(IntProgress(value=0, max=10000), HTML(value='')))"
      ]
     },
     "metadata": {},
     "output_type": "display_data"
    },
    {
     "data": {
      "application/vnd.jupyter.widget-view+json": {
       "model_id": "6f6c0d8255674ed28ce6fa460f83d902",
       "version_major": 2,
       "version_minor": 0
      },
      "text/plain": [
       "HBox(children=(IntProgress(value=0, max=10000), HTML(value='')))"
      ]
     },
     "metadata": {},
     "output_type": "display_data"
    },
    {
     "data": {
      "application/vnd.jupyter.widget-view+json": {
       "model_id": "e34c6e4201bf4f8b8ac9dc8c185c5753",
       "version_major": 2,
       "version_minor": 0
      },
      "text/plain": [
       "HBox(children=(IntProgress(value=0, max=10000), HTML(value='')))"
      ]
     },
     "metadata": {},
     "output_type": "display_data"
    },
    {
     "data": {
      "application/vnd.jupyter.widget-view+json": {
       "model_id": "d44f84c7e7524d5fb332e45ee444859c",
       "version_major": 2,
       "version_minor": 0
      },
      "text/plain": [
       "HBox(children=(IntProgress(value=0, max=10000), HTML(value='')))"
      ]
     },
     "metadata": {},
     "output_type": "display_data"
    },
    {
     "data": {
      "application/vnd.jupyter.widget-view+json": {
       "model_id": "79fe6c5c150441a9b4b7d7b391e70985",
       "version_major": 2,
       "version_minor": 0
      },
      "text/plain": [
       "HBox(children=(IntProgress(value=0, max=10000), HTML(value='')))"
      ]
     },
     "metadata": {},
     "output_type": "display_data"
    },
    {
     "data": {
      "application/vnd.jupyter.widget-view+json": {
       "model_id": "765caf9676f8456996803d10b6182b76",
       "version_major": 2,
       "version_minor": 0
      },
      "text/plain": [
       "HBox(children=(IntProgress(value=0, max=10000), HTML(value='')))"
      ]
     },
     "metadata": {},
     "output_type": "display_data"
    },
    {
     "data": {
      "application/vnd.jupyter.widget-view+json": {
       "model_id": "f54449994d3743ab9d3611bea9a1be67",
       "version_major": 2,
       "version_minor": 0
      },
      "text/plain": [
       "HBox(children=(IntProgress(value=0, max=10000), HTML(value='')))"
      ]
     },
     "metadata": {},
     "output_type": "display_data"
    },
    {
     "data": {
      "application/vnd.jupyter.widget-view+json": {
       "model_id": "b45faeb07a4c441eb39e7c800275f42c",
       "version_major": 2,
       "version_minor": 0
      },
      "text/plain": [
       "HBox(children=(IntProgress(value=0, max=10000), HTML(value='')))"
      ]
     },
     "metadata": {},
     "output_type": "display_data"
    },
    {
     "data": {
      "application/vnd.jupyter.widget-view+json": {
       "model_id": "db7a57c46b474a73b140d586e8d5d761",
       "version_major": 2,
       "version_minor": 0
      },
      "text/plain": [
       "HBox(children=(IntProgress(value=0, max=10000), HTML(value='')))"
      ]
     },
     "metadata": {},
     "output_type": "display_data"
    },
    {
     "data": {
      "application/vnd.jupyter.widget-view+json": {
       "model_id": "9bdc2eddcf1c480db6382ce88c448546",
       "version_major": 2,
       "version_minor": 0
      },
      "text/plain": [
       "HBox(children=(IntProgress(value=0, max=10000), HTML(value='')))"
      ]
     },
     "metadata": {},
     "output_type": "display_data"
    },
    {
     "data": {
      "application/vnd.jupyter.widget-view+json": {
       "model_id": "c32937b998b948b7b369794b5d8c2d64",
       "version_major": 2,
       "version_minor": 0
      },
      "text/plain": [
       "HBox(children=(IntProgress(value=0, max=10000), HTML(value='')))"
      ]
     },
     "metadata": {},
     "output_type": "display_data"
    },
    {
     "data": {
      "application/vnd.jupyter.widget-view+json": {
       "model_id": "db2d0eeb2817405381a160867bd3391f",
       "version_major": 2,
       "version_minor": 0
      },
      "text/plain": [
       "HBox(children=(IntProgress(value=0, max=10000), HTML(value='')))"
      ]
     },
     "metadata": {},
     "output_type": "display_data"
    },
    {
     "data": {
      "application/vnd.jupyter.widget-view+json": {
       "model_id": "ba6b2ac160d04e8088abe3629a70e695",
       "version_major": 2,
       "version_minor": 0
      },
      "text/plain": [
       "HBox(children=(IntProgress(value=0, max=10000), HTML(value='')))"
      ]
     },
     "metadata": {},
     "output_type": "display_data"
    },
    {
     "data": {
      "application/vnd.jupyter.widget-view+json": {
       "model_id": "cf2393aef021440b899b70e79c48da41",
       "version_major": 2,
       "version_minor": 0
      },
      "text/plain": [
       "HBox(children=(IntProgress(value=0, max=10000), HTML(value='')))"
      ]
     },
     "metadata": {},
     "output_type": "display_data"
    },
    {
     "data": {
      "application/vnd.jupyter.widget-view+json": {
       "model_id": "4c782b5ba0c44dab92250f623df053ca",
       "version_major": 2,
       "version_minor": 0
      },
      "text/plain": [
       "HBox(children=(IntProgress(value=0, max=10000), HTML(value='')))"
      ]
     },
     "metadata": {},
     "output_type": "display_data"
    },
    {
     "data": {
      "application/vnd.jupyter.widget-view+json": {
       "model_id": "1b9c2dda97fc4c8d9da8fb3ef388de92",
       "version_major": 2,
       "version_minor": 0
      },
      "text/plain": [
       "HBox(children=(IntProgress(value=0, max=10000), HTML(value='')))"
      ]
     },
     "metadata": {},
     "output_type": "display_data"
    },
    {
     "data": {
      "application/vnd.jupyter.widget-view+json": {
       "model_id": "52df4136ea28479791f6cad5a99bf7ca",
       "version_major": 2,
       "version_minor": 0
      },
      "text/plain": [
       "HBox(children=(IntProgress(value=0, max=10000), HTML(value='')))"
      ]
     },
     "metadata": {},
     "output_type": "display_data"
    },
    {
     "data": {
      "application/vnd.jupyter.widget-view+json": {
       "model_id": "a88de01a86954d16b94d3646784f2699",
       "version_major": 2,
       "version_minor": 0
      },
      "text/plain": [
       "HBox(children=(IntProgress(value=0, max=10000), HTML(value='')))"
      ]
     },
     "metadata": {},
     "output_type": "display_data"
    },
    {
     "data": {
      "application/vnd.jupyter.widget-view+json": {
       "model_id": "cd2c169b3f984d34880cc83e5c07c0be",
       "version_major": 2,
       "version_minor": 0
      },
      "text/plain": [
       "HBox(children=(IntProgress(value=0, max=10000), HTML(value='')))"
      ]
     },
     "metadata": {},
     "output_type": "display_data"
    },
    {
     "data": {
      "application/vnd.jupyter.widget-view+json": {
       "model_id": "f5fe804448064119a90a85958f2c0ec6",
       "version_major": 2,
       "version_minor": 0
      },
      "text/plain": [
       "HBox(children=(IntProgress(value=0, max=10000), HTML(value='')))"
      ]
     },
     "metadata": {},
     "output_type": "display_data"
    },
    {
     "data": {
      "application/vnd.jupyter.widget-view+json": {
       "model_id": "250e9abb549747d3a176b2111a1e26d9",
       "version_major": 2,
       "version_minor": 0
      },
      "text/plain": [
       "HBox(children=(IntProgress(value=0, max=10000), HTML(value='')))"
      ]
     },
     "metadata": {},
     "output_type": "display_data"
    },
    {
     "data": {
      "application/vnd.jupyter.widget-view+json": {
       "model_id": "75391887aa3246fb8fc178dbe5503ee9",
       "version_major": 2,
       "version_minor": 0
      },
      "text/plain": [
       "HBox(children=(IntProgress(value=0, max=10000), HTML(value='')))"
      ]
     },
     "metadata": {},
     "output_type": "display_data"
    },
    {
     "data": {
      "application/vnd.jupyter.widget-view+json": {
       "model_id": "2857e76cbe49405b911ea5283d52e360",
       "version_major": 2,
       "version_minor": 0
      },
      "text/plain": [
       "HBox(children=(IntProgress(value=0, max=10000), HTML(value='')))"
      ]
     },
     "metadata": {},
     "output_type": "display_data"
    },
    {
     "data": {
      "application/vnd.jupyter.widget-view+json": {
       "model_id": "e408ecbca5024aa186e90979f2c22605",
       "version_major": 2,
       "version_minor": 0
      },
      "text/plain": [
       "HBox(children=(IntProgress(value=0, max=10000), HTML(value='')))"
      ]
     },
     "metadata": {},
     "output_type": "display_data"
    },
    {
     "data": {
      "application/vnd.jupyter.widget-view+json": {
       "model_id": "051389a447234b98aba0027b6602ac21",
       "version_major": 2,
       "version_minor": 0
      },
      "text/plain": [
       "HBox(children=(IntProgress(value=0, max=10000), HTML(value='')))"
      ]
     },
     "metadata": {},
     "output_type": "display_data"
    },
    {
     "data": {
      "application/vnd.jupyter.widget-view+json": {
       "model_id": "9ff00b96f0334604ae48034cd8521405",
       "version_major": 2,
       "version_minor": 0
      },
      "text/plain": [
       "HBox(children=(IntProgress(value=0, max=10000), HTML(value='')))"
      ]
     },
     "metadata": {},
     "output_type": "display_data"
    },
    {
     "data": {
      "application/vnd.jupyter.widget-view+json": {
       "model_id": "51bdb5046c334f16986f0bff889ee6cc",
       "version_major": 2,
       "version_minor": 0
      },
      "text/plain": [
       "HBox(children=(IntProgress(value=0, max=10000), HTML(value='')))"
      ]
     },
     "metadata": {},
     "output_type": "display_data"
    },
    {
     "data": {
      "application/vnd.jupyter.widget-view+json": {
       "model_id": "ed5de2810a094393ab62f13fa43be330",
       "version_major": 2,
       "version_minor": 0
      },
      "text/plain": [
       "HBox(children=(IntProgress(value=0, max=10000), HTML(value='')))"
      ]
     },
     "metadata": {},
     "output_type": "display_data"
    },
    {
     "data": {
      "application/vnd.jupyter.widget-view+json": {
       "model_id": "665be3752a0145c287e4ffa32acdb7f3",
       "version_major": 2,
       "version_minor": 0
      },
      "text/plain": [
       "HBox(children=(IntProgress(value=0, max=10000), HTML(value='')))"
      ]
     },
     "metadata": {},
     "output_type": "display_data"
    },
    {
     "data": {
      "application/vnd.jupyter.widget-view+json": {
       "model_id": "27910ca9c6ef4612ba0bce4289569180",
       "version_major": 2,
       "version_minor": 0
      },
      "text/plain": [
       "HBox(children=(IntProgress(value=0, max=10000), HTML(value='')))"
      ]
     },
     "metadata": {},
     "output_type": "display_data"
    },
    {
     "data": {
      "application/vnd.jupyter.widget-view+json": {
       "model_id": "8db2373e8da144dda1d5423cb3e5d35c",
       "version_major": 2,
       "version_minor": 0
      },
      "text/plain": [
       "HBox(children=(IntProgress(value=0, max=10000), HTML(value='')))"
      ]
     },
     "metadata": {},
     "output_type": "display_data"
    },
    {
     "data": {
      "application/vnd.jupyter.widget-view+json": {
       "model_id": "5304414e7378408c817c2f02fc612902",
       "version_major": 2,
       "version_minor": 0
      },
      "text/plain": [
       "HBox(children=(IntProgress(value=0, max=10000), HTML(value='')))"
      ]
     },
     "metadata": {},
     "output_type": "display_data"
    },
    {
     "data": {
      "application/vnd.jupyter.widget-view+json": {
       "model_id": "74217a843ee8433dbe5eac0eace10f8f",
       "version_major": 2,
       "version_minor": 0
      },
      "text/plain": [
       "HBox(children=(IntProgress(value=0, max=10000), HTML(value='')))"
      ]
     },
     "metadata": {},
     "output_type": "display_data"
    },
    {
     "data": {
      "application/vnd.jupyter.widget-view+json": {
       "model_id": "306f2003b7f64c919f0310bb8ba43295",
       "version_major": 2,
       "version_minor": 0
      },
      "text/plain": [
       "HBox(children=(IntProgress(value=0, max=10000), HTML(value='')))"
      ]
     },
     "metadata": {},
     "output_type": "display_data"
    },
    {
     "data": {
      "application/vnd.jupyter.widget-view+json": {
       "model_id": "f6e5f4496e11428ea7307673d0fca004",
       "version_major": 2,
       "version_minor": 0
      },
      "text/plain": [
       "HBox(children=(IntProgress(value=0, max=10000), HTML(value='')))"
      ]
     },
     "metadata": {},
     "output_type": "display_data"
    },
    {
     "data": {
      "application/vnd.jupyter.widget-view+json": {
       "model_id": "638b268b1ef9465fa75458c1055eee19",
       "version_major": 2,
       "version_minor": 0
      },
      "text/plain": [
       "HBox(children=(IntProgress(value=0, max=10000), HTML(value='')))"
      ]
     },
     "metadata": {},
     "output_type": "display_data"
    },
    {
     "data": {
      "application/vnd.jupyter.widget-view+json": {
       "model_id": "5094fc7310ec4805be1ee13dedb1cf0e",
       "version_major": 2,
       "version_minor": 0
      },
      "text/plain": [
       "HBox(children=(IntProgress(value=0, max=10000), HTML(value='')))"
      ]
     },
     "metadata": {},
     "output_type": "display_data"
    },
    {
     "data": {
      "application/vnd.jupyter.widget-view+json": {
       "model_id": "792500f2d04242919fa4dd3022cf67f1",
       "version_major": 2,
       "version_minor": 0
      },
      "text/plain": [
       "HBox(children=(IntProgress(value=0, max=10000), HTML(value='')))"
      ]
     },
     "metadata": {},
     "output_type": "display_data"
    },
    {
     "data": {
      "application/vnd.jupyter.widget-view+json": {
       "model_id": "9264fa65adbc4850ad1505eb01b62262",
       "version_major": 2,
       "version_minor": 0
      },
      "text/plain": [
       "HBox(children=(IntProgress(value=0, max=10000), HTML(value='')))"
      ]
     },
     "metadata": {},
     "output_type": "display_data"
    },
    {
     "data": {
      "application/vnd.jupyter.widget-view+json": {
       "model_id": "0220df36780f44cfb1efc6e410aeb4a1",
       "version_major": 2,
       "version_minor": 0
      },
      "text/plain": [
       "HBox(children=(IntProgress(value=0, max=10000), HTML(value='')))"
      ]
     },
     "metadata": {},
     "output_type": "display_data"
    },
    {
     "data": {
      "application/vnd.jupyter.widget-view+json": {
       "model_id": "b09b1eea8a974b289f8f195ed925731f",
       "version_major": 2,
       "version_minor": 0
      },
      "text/plain": [
       "HBox(children=(IntProgress(value=0, max=10000), HTML(value='')))"
      ]
     },
     "metadata": {},
     "output_type": "display_data"
    },
    {
     "data": {
      "application/vnd.jupyter.widget-view+json": {
       "model_id": "74b03b7080f4433d88e81abdc8062f9e",
       "version_major": 2,
       "version_minor": 0
      },
      "text/plain": [
       "HBox(children=(IntProgress(value=0, max=10000), HTML(value='')))"
      ]
     },
     "metadata": {},
     "output_type": "display_data"
    },
    {
     "data": {
      "application/vnd.jupyter.widget-view+json": {
       "model_id": "6043e9beed6d4a938a818277f8fbeb15",
       "version_major": 2,
       "version_minor": 0
      },
      "text/plain": [
       "HBox(children=(IntProgress(value=0, max=10000), HTML(value='')))"
      ]
     },
     "metadata": {},
     "output_type": "display_data"
    },
    {
     "data": {
      "application/vnd.jupyter.widget-view+json": {
       "model_id": "10d60f3765f6495b9621c50a5d9a5f36",
       "version_major": 2,
       "version_minor": 0
      },
      "text/plain": [
       "HBox(children=(IntProgress(value=0, max=10000), HTML(value='')))"
      ]
     },
     "metadata": {},
     "output_type": "display_data"
    },
    {
     "name": "stdout",
     "output_type": "stream",
     "text": [
      "\n"
     ]
    }
   ],
   "source": [
    "# Given a list, return the mean value\n",
    "def list_avg(lst):\n",
    "    return sum(lst) / len(lst)\n",
    "\n",
    "# Probability of Geometric job size distribution (fixed), arrival distribution (0 < p < 0.5)\n",
    "q = 0.5\n",
    "p = 0.5\n",
    "\n",
    "# number of arrivals + number of discarded items\n",
    "n = 10000\n",
    "k = 2000\n",
    "\n",
    "# Create a single server instance and run the experiment\n",
    "data = []\n",
    "for i in tqdm(range(1,50)):\n",
    "    p = i/100\n",
    "    s = Server(p, q) \n",
    "    n_jobs, n_res_time = s.run(n, k) # Run the experiment with n = 100000, k = 2000\n",
    "    # Estimate expected values\n",
    "    avg_n = list_avg(n_jobs)\n",
    "    avg_t = list_avg(n_res_time)\n",
    "    # Generate theoretical values\n",
    "    e_n = p*(1-p)/(q-p)\n",
    "    e_t = (1-p)/(q-p)\n",
    "    data.append([p, avg_n, avg_t, \"avg\"])\n",
    "    data.append([p, e_n, e_t, \"estimated\"])\n"
   ]
  },
  {
   "cell_type": "code",
   "execution_count": 11,
   "metadata": {},
   "outputs": [],
   "source": [
    "# Data conversion for visualization\n",
    "df = pd.DataFrame(data, columns=['p', 'avg_n', 'avg_t', 'type'])\n",
    "df = df[df[\"p\"] < 0.49]\n",
    "sns.set_theme(context='notebook', style='white', palette='gist_ncar', font='sans-serif', font_scale=1, color_codes=True)"
   ]
  },
  {
   "cell_type": "code",
   "execution_count": 12,
   "metadata": {},
   "outputs": [
    {
     "data": {
      "text/plain": [
       "<matplotlib.legend.Legend at 0x1255b3510>"
      ]
     },
     "execution_count": 12,
     "metadata": {},
     "output_type": "execute_result"
    },
    {
     "data": {
      "image/png": "[encoded data removed]",
      "text/plain": [
       "<Figure size 432x288 with 1 Axes>"
      ]
     },
     "metadata": {},
     "output_type": "display_data"
    }
   ],
   "source": [
    "# Plot p vs E(N)\n",
    "g = sns.lineplot(data=df, x=\"p\", y=\"avg_n\", hue=\"type\", legend=True)\n",
    "g.set_title(\"p vs E(N)\")\n",
    "handles, labels = g.get_legend_handles_labels()\n",
    "g.legend(handles=handles[2:], labels=labels[2:])"
   ]
  },
  {
   "cell_type": "code",
   "execution_count": 20,
   "metadata": {},
   "outputs": [
    {
     "data": {
      "text/plain": [
       "<matplotlib.legend.Legend at 0x1253dbed0>"
      ]
     },
     "execution_count": 20,
     "metadata": {},
     "output_type": "execute_result"
    },
    {
     "data": {
      "image/png": "[encoded data removed]",
      "text/plain": [
       "<Figure size 432x288 with 1 Axes>"
      ]
     },
     "metadata": {},
     "output_type": "display_data"
    }
   ],
   "source": [
    "# Plot p vs E(T\n",
    "g = sns.lineplot(data=df, x=\"p\", y=\"avg_t\", hue=\"type\", legend=True)\n",
    "g.set_title(\"p vs E(T)\")\n",
    "handles, labels = g.get_legend_handles_labels()\n",
    "g.legend(handles=handles[2:], labels=labels[2:])"
   ]
  },
  {
   "cell_type": "code",
   "execution_count": 21,
   "metadata": {},
   "outputs": [
    {
     "name": "stdout",
     "output_type": "stream",
     "text": [
      "E(N)=48.08678184009642, E(T)=22.890870828740354*\n",
      "*E(N) is mean number of jobs, E(T) is mean response time\n"
     ]
    }
   ],
   "source": [
    "print(\"E(N)={}, E(T)={}*\".format(list_avg(s.dep_log), list_avg(s.arr_log)))\n",
    "print(\"*E(N) is mean number of jobs, E(T) is mean response time\")"
   ]
  },
  {
   "cell_type": "code",
   "execution_count": 22,
   "metadata": {},
   "outputs": [
    {
     "data": {
      "text/plain": [
       "[Text(0.5, 1.0, 'Queue Length')]"
      ]
     },
     "execution_count": 22,
     "metadata": {},
     "output_type": "execute_result"
    },
    {
     "data": {
      "image/png": "[encoded data removed]",
      "text/plain": [
       "<Figure size 432x288 with 1 Axes>"
      ]
     },
     "metadata": {},
     "output_type": "display_data"
    }
   ],
   "source": [
    "# g = sns.kdeplot(s.dep_log, clip=(0,20), bw_adjust=2, label=\"Processing Time\")\n",
    "# g.set(title=\"Processing Time\")\n",
    "\n",
    "# a = sns.kdeplot(s.arr_log, bw_adjust=5, clip=(0,12), label=\"Queue Length\")\n",
    "# a.set(title=\"Queue Length\")"
   ]
  }
 ],
 "metadata": {
  "kernelspec": {
   "display_name": "env",
   "language": "python",
   "name": "env"
  },
  "language_info": {
   "codemirror_mode": {
    "name": "ipython",
    "version": 3
   },
   "file_extension": ".py",
   "mimetype": "text/x-python",
   "name": "python",
   "nbconvert_exporter": "python",
   "pygments_lexer": "ipython3",
   "version": "3.7.7"
  }
 },
 "nbformat": 4,
 "nbformat_minor": 2
}
